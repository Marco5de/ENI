{
 "cells": [
  {
   "cell_type": "markdown",
   "metadata": {},
   "source": [
    "<h1><center>Einführung in die Neuroinformatik - Übungsblatt 3</center></h1>\n",
    "<h2><center>Dominik Authaler, Marco Deuscher und Carolin Schindler</center></h2>\n",
    "<h2><center>Gruppe Q</center></h2>\n",
    "<h2><center>Mai 2019</center></h2>\n",
    "\n",
    "### Aufgabe 1:\n",
    "Von der Aufgabenstellung gegeben sind folgende Gleichungen:\n",
    "$$\n",
    "\\begin{align}\n",
    "    y(x) = f(w \\cdot x+b)\n",
    "\\end{align}\n",
    "$$\n",
    "$$\n",
    "\\begin{align}\n",
    "    E(w, b) = \\frac{1}{2}\\sum_{\\mu=1}^{M}(T_{\\mu} - y(x_{\\mu}))^2 = \\frac{1}{2}\\sum_{\\mu=1}^{M}(T_{\\mu} - f(w \\cdot x_{\\mu}+b))^2\n",
    "\\end{align}\n",
    "$$\n",
    "\n",
    "1.)   \n",
    "Berechnet werden soll der Gradient:\n",
    "$$\n",
    "\\begin{align}\n",
    "    \\nabla E(w, b) = \\begin{pmatrix}\\frac{\\partial E}{\\partial w} \\\\ \\frac{\\partial E}{\\partial b}\\end{pmatrix} = \\begin{pmatrix}\\frac{1}{2} \\cdot 2 \\sum_{\\mu=1}^{M}(T_{\\mu} - f(w \\cdot x_{\\mu}+b)) \\cdot (-f'(w \\cdot x_{\\mu}+b)) \\cdot x_{\\mu}\\\\ \\frac{1}{2} \\cdot 2 \\sum_{\\mu=1}^{M}(T_{\\mu} - f(w \\cdot x_{\\mu}+b)) \\cdot (-f'(w \\cdot x_{\\mu}+b)) \\cdot 1\\end{pmatrix} = \\begin{pmatrix} - \\sum_{\\mu=1}^{M}(T_{\\mu} - f(w \\cdot x_{\\mu}+b)) \\cdot f'(w \\cdot x_{\\mu}+b) \\cdot x_{\\mu}\\\\ -\\sum_{\\mu=1}^{M}(T_{\\mu} - f(w \\cdot x_{\\mu}+b)) \\cdot f'(w \\cdot x_{\\mu}+b) \\end{pmatrix}\n",
    "    = \\begin{pmatrix} \\sum_{\\mu=1}^{M}(f(w \\cdot x_{\\mu}+b) - T_{\\mu}) \\cdot f'(w \\cdot x_{\\mu}+b) \\cdot x_{\\mu}\\\\ \\sum_{\\mu=1}^{M}(f(w \\cdot x_{\\mu}+b) - T_{\\mu}) \\cdot f'(w \\cdot x_{\\mu}+b) \\end{pmatrix}\n",
    "\\end{align}\n",
    "$$\n",
    "\n",
    "2.)  \n",
    "Aus dem oben berechneten Gradienten sollen nun Lernregeln formuliert werden:  \n",
    "a) Inkrementelle Version:\n",
    "$$\n",
    "\\begin{align}\n",
    "    w(t+1) = w(t) + \\eta \\cdot (T_{\\mu} - f(w(t) \\cdot x_{\\mu} + b(t)) \\cdot f'(w(t) \\cdot x_{\\mu} + b(t)) \\cdot x_{\\mu})\\\\\n",
    "    b(t+1) = b(t) + \\eta \\cdot (T_{\\mu} - f(w(t) \\cdot x_{\\mu} + b(t)) \\cdot f'(w(t) \\cdot x_{\\mu} + b(t)))\n",
    "\\end{align}\n",
    "$$\n",
    "\n",
    "b) Batch Version:\n",
    "$$\n",
    "\\begin{align}\n",
    "    w(t+1) = w(t) + \\eta \\cdot \\sum_{\\mu=1}^{M}(T_{\\mu} - f(w(t) \\cdot x_{\\mu} + b(t)) \\cdot f'(w(t) \\cdot x_{\\mu} + b(t)) \\cdot x_{\\mu})\\\\\n",
    "    b(t+1) = b(t) + \\eta \\cdot \\sum_{\\mu=1}^{M}(T_{\\mu} - f(w(t) \\cdot x_{\\mu} + b(t)) \\cdot f'(w(t) \\cdot x_{\\mu} + b(t)))\n",
    "\\end{align}\n",
    "$$\n",
    "\n",
    "3.)   \n",
    "Nun soll die oben formulierte Batch Version am gegebenen Beispiel ausprobiert werden:\n",
    "  \n",
    "Dazu wird nun die Transferfunktion $f(x) = \\frac{1}{1 + e^{-x}}$ zusammen mit ihrer Ableitung definiert und der Anschaulichkeit halber geplottet:"
   ]
  },
  {
   "cell_type": "code",
   "execution_count": 75,
   "metadata": {},
   "outputs": [
    {
     "data": {
      "image/png": "[encoded data removed]",
      "text/plain": [
       "<Figure size 432x288 with 1 Axes>"
      ]
     },
     "metadata": {
      "needs_background": "light"
     },
     "output_type": "display_data"
    }
   ],
   "source": [
    "import numpy as np\n",
    "import math\n",
    "import matplotlib.pyplot as plt\n",
    "\n",
    "def f(x):\n",
    "    return (1 / (1 + math.exp(-x)))\n",
    "\n",
    "def f_deriv(x): \n",
    "    return math.exp(-x) / ((1 + math.exp(-x)) ** 2)\n",
    "\n",
    "x = np.arange(-5,6,.1)\n",
    "y = []\n",
    "y_d = []\n",
    "for i in x: \n",
    "    y.append(f(i))\n",
    "    y_d.append(f_deriv(i))\n",
    "\n",
    "plt.title(r'Transferfunktion')\n",
    "plt.xlabel('x')\n",
    "plt.plot(x, y, 'b')\n",
    "plt.plot(x, y_d, 'r')\n",
    "plt.gca().legend(('$f(x)$',r'$\\frac{d}{dx}f(x)$'))\n",
    "plt.show()"
   ]
  },
  {
   "cell_type": "markdown",
   "metadata": {},
   "source": [
    "Außerdem muss noch das Lehrersignal T definiert werden:"
   ]
  },
  {
   "cell_type": "code",
   "execution_count": 76,
   "metadata": {},
   "outputs": [],
   "source": [
    "def T(x):\n",
    "    if x < -1 or x > 2:\n",
    "        print(r'Signal is only provided for {-1, 0, 1, 2}')\n",
    "        return 0\n",
    "    else: \n",
    "        if x == 0:\n",
    "            return 1\n",
    "        else: \n",
    "            return 0"
   ]
  },
  {
   "cell_type": "markdown",
   "metadata": {},
   "source": [
    "a) Nun soll der Gradient der Fehlerfunktion für die Anfangswerte $w(0) =  -1$ und $b(0) = 3$ berechnet werden:"
   ]
  },
  {
   "cell_type": "code",
   "execution_count": 77,
   "metadata": {},
   "outputs": [
    {
     "name": "stdout",
     "output_type": "stream",
     "text": [
      "[-1  0  1  2]\n",
      "Grad_w0: 0.36260270307341996\n",
      "Grad_b0: 0.25141536222290073\n"
     ]
    }
   ],
   "source": [
    "b0 = 3\n",
    "w0 = -1\n",
    "\n",
    "#Array mit den zulässigen Werten für $\\mu$\n",
    "mu = np.arange(-1, 3)\n",
    "\n",
    "grad_w0 = 0\n",
    "grad_b0 = 0\n",
    "\n",
    "for x in mu:\n",
    "    grad_w0 += (f(w0 * x + b0) - T(x)) * f_deriv(w0 * x + b0) * x\n",
    "    grad_b0 += (f(w0 * x + b0) - T(x)) * f_deriv(w0 * x + b0)\n",
    "    \n",
    "print('Grad_w0: ' + str(grad_w0))\n",
    "print('Grad_b0: ' + str(grad_b0))\n"
   ]
  },
  {
   "cell_type": "markdown",
   "metadata": {},
   "source": [
    "Die hier zu sehende Grafik wurde mittels Mathematica erstellt und zeigt den berechneten Gradienten für die gegebenen Anfangswerte von $w$ und $b$:\n",
    "<img src=\"ENI_B3_2b).png\">"
   ]
  },
  {
   "cell_type": "markdown",
   "metadata": {},
   "source": [
    "c) Als nächstes soll eine Iteration der oben formulierten Batch-Lernregel durchgeführt werden. Dabei ist die Lernrate mit $\\eta = 0.8$ vorgegeben:"
   ]
  },
  {
   "cell_type": "code",
   "execution_count": 80,
   "metadata": {},
   "outputs": [
    {
     "name": "stdout",
     "output_type": "stream",
     "text": [
      "W1: -1.290082162458736\n",
      "B1: 2.7988677102216792\n"
     ]
    }
   ],
   "source": [
    "eta = 0.8\n",
    "\n",
    "w1 = w0 - eta * grad_w0\n",
    "b1 = b0 - eta * grad_b0\n",
    "\n",
    "print('W1: ' + str(w1))\n",
    "print('B1: ' + str(b1))"
   ]
  },
  {
   "cell_type": "markdown",
   "metadata": {},
   "source": [
    "d) Das hier vorliegende Problem ist, dass der Gradient immer nur auf das nächste lokale Maximum zeigt. Durch die Negation erhält man also auch nur das nächstgelegene lokale Minimum und hat keine Möglichkeit, rein am Gradienten abzulesen, ob es auch wirklich das globale Minimum ist. "
   ]
  },
  {
   "cell_type": "markdown",
   "metadata": {},
   "source": [
    "4.)   \n",
    "a) Pfad 1 gehört zur Batch-Lernregel, was sehr gut daran auszumachen ist, dass im Vergleich zu Pfad 2 nur sehr wenige Anpassungen von w und b notwendig waren, bis das lokale Minimum erreicht wurde. Dagegen ist Pfad 2 sehr \"zackig\", was sich damit deckt, dass bei der inkrementellen Lernregel nach jedem Vergleich mit einem Lehrersignal die Werte verändert werden.\n",
    "  \n",
    "b) Ein großer Nachteil der Batch-Lernregel ist, dass eine Anpassung der Werte alle Lehrersignale benötigt. Daher ist der für die Anpassung benötigte Rechenaufwand sehr groß. Dagegen ist der Rechenaufwand bei der inkrementellen Lernregel deutlich kleiner, wobei diese den Nachteil mit sich bringt, dass die Änderungen sich teilweise wieder selbst aufheben. Daher ist meist die Abweichung zur idealen \"Route\" zum lokalen Minimum deutlich größer als bei der Batch-Lernregel.\n",
    "Mini-Batches kombinieren nun die Vorteile beider Verfahren, indem die Berechnung aufgrund der kleineren Datenmenge einfacher wird, der Abstieg aber aufgrund der Verwendung einer Teilmenge und nicht nur einzelner Lehrersignale deutlich \"stabiler\" (weniger \"zackig\") erfolgt.\n",
    "\n",
    "5.)  \n",
    "Anhand der Animation und der oben gegebenen Formeln wird deutlich, dass die Lernrate vor allem die \"Schrittweite\", also die Größe der Änderung zwischen zwei Iterationen, beeinflusst. Für sehr kleine Lernraten / Schrittweiten werden viele Iterationen benötigt, bis das lokale Minimum erreicht ist. Dies gilt allerdings auch für sehr große Lernraten, da man dann oft über das lokale Minimum springt und diesem dadurch wieder nur sehr langsam näher kommt. Beide Extreme bringen also Nachteile mit sich. \n",
    "\n",
    "6.)  \n",
    "Die Ursache der Abweichung liegt darin begründet, dass hier nur ein einzelnes Perzeptron verwendet wurde. Daher können nur linear separierbare Probleme ideal gelöst werden. Bei dem gewählten Beispiel ist dies allerdings nicht der Fall, da der Wert x = 1 (Sollausgabewert 1) sowohl in positive als auch negative Richtung von Werten umgeben ist, deren Sollausgabewert 0 beträgt. "
   ]
  },
  {
   "cell_type": "markdown",
   "metadata": {},
   "source": []
  },
  {
   "cell_type": "code",
   "execution_count": null,
   "metadata": {},
   "outputs": [],
   "source": []
  }
 ],
 "metadata": {
  "kernelspec": {
   "display_name": "Python 3",
   "language": "python",
   "name": "python3"
  },
  "language_info": {
   "codemirror_mode": {
    "name": "ipython",
    "version": 3
   },
   "file_extension": ".py",
   "mimetype": "text/x-python",
   "name": "python",
   "nbconvert_exporter": "python",
   "pygments_lexer": "ipython3",
   "version": "3.7.3"
  }
 },
 "nbformat": 4,
 "nbformat_minor": 2
}

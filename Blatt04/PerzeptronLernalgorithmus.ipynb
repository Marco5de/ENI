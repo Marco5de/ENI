{
 "cells": [
  {
   "cell_type": "markdown",
   "metadata": {},
   "source": [
    "# Perzeptron-Lernalgorithmus"
   ]
  },
  {
   "cell_type": "code",
   "execution_count": 1,
   "metadata": {},
   "outputs": [],
   "source": [
    "import numpy as np\n",
    "import matplotlib.pyplot as plt\n",
    "import ipywidgets as widgets\n",
    "from ipywidgets import interact\n",
    "from IPython.display import display\n",
    "import copy"
   ]
  },
  {
   "cell_type": "code",
   "execution_count": 2,
   "metadata": {},
   "outputs": [
    {
     "data": {
      "text/plain": [
       "(10, 3)"
      ]
     },
     "execution_count": 2,
     "metadata": {},
     "output_type": "execute_result"
    }
   ],
   "source": [
    "data = np.array([[-3, 1, -1], \n",
    "                 [-3, 3, 1], \n",
    "                 [-2, 1, -1], \n",
    "                 [-2, 4, 1], \n",
    "                 [-1, 3, 1], \n",
    "                 [-1, 4, 1], \n",
    "                 [2, 2, -1], \n",
    "                 [2, 4, 1], \n",
    "                 [3, 2, -1], \n",
    "                 [4, 1, -1]])\n",
    "data.shape"
   ]
  },
  {
   "cell_type": "markdown",
   "metadata": {},
   "source": [
    "## Teil 1: Implementierung"
   ]
  },
  {
   "cell_type": "code",
   "execution_count": 3,
   "metadata": {},
   "outputs": [
    {
     "data": {
      "text/plain": [
       "50"
      ]
     },
     "execution_count": 3,
     "metadata": {},
     "output_type": "execute_result"
    }
   ],
   "source": [
    "weight_vector = np.zeros(3, dtype=np.float32)\n",
    "weight_vectors = []\n",
    "eta = 1\n",
    "change = True\n",
    "\n",
    "while change:\n",
    "    change = False\n",
    "    for tvec in data:\n",
    "        tmod = [1,tvec[0],tvec[1]]\n",
    "        if np.dot(tmod, weight_vector) < 0 and tvec[2]==1:\n",
    "            weight_vector += eta * tmod\n",
    "            change = True\n",
    "        elif np.dot(tmod, weight_vector) >= 0 and tvec[2]==-1:\n",
    "            weight_vector -=  eta * tmod\n",
    "            change = True\n",
    "        weight_vectors.append(copy.copy(weight_vector))   \n",
    "         \n",
    "            \n",
    "len(weight_vectors)"
   ]
  },
  {
   "cell_type": "markdown",
   "metadata": {},
   "source": [
    "## Teil 2: Darstellung"
   ]
  },
  {
   "cell_type": "code",
   "execution_count": 24,
   "metadata": {},
   "outputs": [
    {
     "data": {
      "application/vnd.jupyter.widget-view+json": {
       "model_id": "1c5198a593404d89afa1654ab52db1e1",
       "version_major": 2,
       "version_minor": 0
      },
      "text/plain": [
       "interactive(children=(IntSlider(value=0, description='ts', max=49), Output()), _dom_classes=('widget-interact'…"
      ]
     },
     "metadata": {},
     "output_type": "display_data"
    }
   ],
   "source": [
    "#ToDo paar sonderfälle wo durch null geteilt wird\n",
    "#ToDo Highlight currently processed data point\n",
    "#Todo Legende vervollständigen\n",
    "col = np.where(data[:,2]==1,'y',np.where(data[:,2]==-1,'k','r'))\n",
    "\n",
    "\n",
    "\n",
    "        \n",
    "\n",
    "\n",
    "def plot_model(ts):\n",
    "    #berechnen des aktuellen Punktes über Modulo Operation mit der Länge des Data Vektors\n",
    "    current_datapoint = ts % len(data)\n",
    "    print(current_datapoint)\n",
    "    \n",
    "    x1 = np.arange(-6,6,0.01)\n",
    "    plt.title(\"Todo Edit title\")\n",
    "    plt.xlim(right=5,left=-5)\n",
    "    plt.ylim(top=5,bottom=-5)\n",
    "    plt.xlabel(\"x1\")\n",
    "    plt.ylabel(\"x2\")\n",
    "    plt.scatter(data[:,0], data[:,1],c=col,label=\"Trainingsdaten\")\n",
    "    #plt.scatter(pos_data[:,0],pos_data[:,1],c='b',label=\"Traingsdaten\")\n",
    "    if(weight_vectors[ts][2]!=0):\n",
    "        x2 = -(weight_vectors[ts][1]*x1+weight_vectors[ts][0])/weight_vectors[ts][2]\n",
    "        plt.plot(x1,x2,label=\"Trennlinie\")\n",
    "        #ToDo how do labels for this work\n",
    "        plt.fill_between(x1, x2, -5, color='red', alpha='0.2')\n",
    "        plt.fill_between(x1, x2, 5, color='green', alpha='0.2')\n",
    "    else:\n",
    "        #einzeichnen der Gebiete falls x2 nicht ex. da durch 0 geteilt wurde\n",
    "        plt.axvline(x=0,label=\"Trennlinie\")\n",
    "        plt.axvspan(-5,0,-5,5,facecolor='r', alpha=0.2)\n",
    "        plt.axvspan(0,5,-5,5,facecolor='g', alpha=0.2)\n",
    "    \n",
    "    #x und y startpunkte, u,v richtung\n",
    "    plt.quiver(0, 0, weight_vectors[ts][0], weight_vectors[ts][1], scale=25,label=\"Gewichtsvektor\")\n",
    "    #plot marker for current data_point\n",
    "    plt.plot(data[current_datapoint][0],data[current_datapoint][1], marker=\"X\",color='r',markersize=15)\n",
    "    \n",
    "    #plt.Axes.set_axisbelow(None,True)\n",
    "    plt.legend()\n",
    "    plt.show()\n",
    "    return\n",
    "\n",
    "interact(plot_model, ts=widgets.IntSlider(min=0,max=49,step=1,value=0));"
   ]
  },
  {
   "cell_type": "code",
   "execution_count": null,
   "metadata": {},
   "outputs": [],
   "source": []
  }
 ],
 "metadata": {
  "kernelspec": {
   "display_name": "Python 3",
   "language": "python",
   "name": "python3"
  },
  "language_info": {
   "codemirror_mode": {
    "name": "ipython",
    "version": 3
   },
   "file_extension": ".py",
   "mimetype": "text/x-python",
   "name": "python",
   "nbconvert_exporter": "python",
   "pygments_lexer": "ipython3",
   "version": "3.6.7"
  }
 },
 "nbformat": 4,
 "nbformat_minor": 2
}

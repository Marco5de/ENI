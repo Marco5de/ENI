{
 "cells": [
  {
   "cell_type": "markdown",
   "metadata": {},
   "source": [
    "# Einführung in die Neuroinformatik - 2. Aufgabenblatt\n",
    "## Gruppe Q: Dominik Authaler, Marco Deuscher, Carolin Schindler\n",
    "\n",
    "### Aufgabe 1: Boole'sche Funktionen\n",
    "\n",
    "#### 1. Gewichtsvektor $w$ und Schwellwert $\\theta$ definieren\n",
    "#### a) logisches AND-Gatter\n",
    "$w=(1, 1, 1)^T$ und $\\theta = 3$\n",
    "#### b) logisches OR-Gatter\n",
    "$w=(1, 1, 1)^T$ und $\\theta = 1$\n",
    "\n",
    "#### 2. Ist die Darstellung in beiden Fällen eindeutig?\n",
    "Die Darstellung ist in beiden Fällen nicht eindeutig. Bei a) hätte man z.B. auch $w=(2, 2, 2)^T$ und $\\theta = 6$ wählen können und bei b) $w=(2, 2, 2)^T$ und $\\theta = 2$.\n",
    "\n",
    "#### 3. Beispiel: Entscheidung, ob Veranstaltung besucht wird\n",
    "#### a) Darstellung mit einem Netz aus mindestens zwei Schwellwertneuronen\n",
    "<img src=\"Blatt02_Bild13a.png\">  \n",
    "#### b) Parameterkonstellation $(w, \\theta)$ zur Darstellung mit einem einzigen Schwellwertneuron\n",
    "$w=(2, 1, 1)^T$ und $\\theta = 3$\n",
    "\n",
    "### Aufgabe 2: Schwellwertneuronen\n",
    "\n",
    "#### 1. Stelle die beschriebene Situation mit einem Netzwerk aus Schwellwertneuronen dar.\n",
    "<img src=\"Blatt02_Bild21.png\">\n",
    "\n",
    "#### 2. Konstruiere ein Netz aus Schwellwertneuronen, welches $V(x)$ berechnet.\n",
    "$x_1 + x_2 + x_3  = 1$ ist äquivalent zu $x_1 + x_2 + x_3  \\geq 1 \\wedge -x_1 - x_2 - x_3  \\geq -1$\n",
    "<img src=\"Blatt02_Bild22.png\">\n",
    "\n",
    "### Aufgabe 3: Logistische Neuronen\n",
    "\n",
    "#### 1. Einfluss von Gewicht $w_1$ und Bias $b_1$ auf die Form der logistischen Funktion\n",
    "#### a) Wie wirkt sich eine Erhöhung von $w_1$ auf die Funktion $y_1(x)$ aus?\n",
    "Wird $w_1$ erhöht, so nimmt die Steigung von $y_1(x)$ zu.\n",
    "#### b) Was passiert, wenn $w_1$ negativ wird?\n",
    "$w_1$ positiv: $lim_{n\\to-\\infty}(y_1(x)) = 0$, $lim_{n\\to+\\infty}(y_1(x)) = 1$  \n",
    "$w_1$ negativ: $lim_{n\\to-\\infty}(y_1(x)) = 1$, $lim_{n\\to+\\infty}(y_1(x)) = 0$ (Grenzwerte sind vertauscht zum Fall $w_1$ positiv)\n",
    "\n",
    "#### c) Bestimme für Veränderungen des Bias wie sich die Verschiebung für unterschiedliche Vorzeichen von $w_1$ auswirkt.\n",
    "$b_1\\uparrow \\wedge w_1>0$: links  \n",
    "$b_1\\uparrow \\wedge w_1<0$: rechts  \n",
    "$b_1\\downarrow \\wedge w_1>0$: rechts  \n",
    "$b_1\\downarrow \\wedge w_1<0$: links  \n",
    "\n",
    "#### 2. Welche Parameter $w_1$, $b_1$ für das erste und $w_2$, $b_2$ für das zweite Neuron könnte die Funktion erzeugen?\n",
    "Aus den obigen Grenzwertbetrachtungen kann man $w_1 = -w_2$ folgern.  \n",
    "Für $w_1=-w_2=0$ erhält man die Beziehung $\\frac{1}{1+e^{-b_1}} + \\frac{1}{1+e^{-b_2}} \\approx \\frac{1}{2}$ und da $e^1 \\approx 2.7$ und $e^{-1} \\approx 0.37$ muss gelten $b_1=b_2=-1$.  \n",
    "Die Funktion könnte also durch $w_1=-w_2=1$ und $b_1=b_2=-1$ erzeugt werden."
   ]
  },
  {
   "cell_type": "code",
   "execution_count": null,
   "metadata": {},
   "outputs": [],
   "source": []
  }
 ],
 "metadata": {
  "kernelspec": {
   "display_name": "Python 3",
   "language": "python",
   "name": "python3"
  },
  "language_info": {
   "codemirror_mode": {
    "name": "ipython",
    "version": 3
   },
   "file_extension": ".py",
   "mimetype": "text/x-python",
   "name": "python",
   "nbconvert_exporter": "python",
   "pygments_lexer": "ipython3",
   "version": "3.7.3"
  }
 },
 "nbformat": 4,
 "nbformat_minor": 2
}

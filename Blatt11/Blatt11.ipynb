{
 "cells": [
  {
   "cell_type": "markdown",
   "metadata": {},
   "source": [
    "# Einführung in die Neuroinformatik - 11. Aufgabenblatt\n",
    "## Gruppe Q: Dominik Authaler, Marco Deuscher, Carolin Schindler\n",
    "\n",
    "### Aufgabe 1: Dropout\n",
    "\n",
    "#### 1. Buch Neuronal Networks and Deep Learning\n",
    "##### a) Erkläre in eigenen Worten, welche Intuition(en) es dafür gibt, dass $dropout$ funktioniert.\n",
    "Dadurch, dass während des Trainings zufälig Neuronen nicht trainiert werden, ändert sich die Struktur des Netzwerkes und es werden quasi mit jeder Änderung verschiedene Netzwerke trainiert. Dadurch wird overfitting verhindert, da über die zeitlich verschieden trainierten Netzwerke bei späterer Verweundung aller Neuronen eine Art Mittelung entsteht.\n",
    "\n",
    "##### b) Mit welchem Faktor müssen wir die Gewichte $w_{ij}^{(2)}$ nachdem Trainingsvorgang multiplizieren, um die erhöhte Anzahl aktiver Neuronen beim Testen zu kompensieren?\n",
    "Die Gewichte müssen mit dem Faktor $\\frac{2}{3}$ mulitpliziert werden.\n",
    "\n",
    "#### 2. Anwendung von $dropout$ auf ein Regressionsproblem"
   ]
  },
  {
   "cell_type": "code",
   "execution_count": 4,
   "metadata": {},
   "outputs": [
    {
     "ename": "NameError",
     "evalue": "name 'XXX' is not defined",
     "output_type": "error",
     "traceback": [
      "\u001b[1;31m---------------------------------------------------------------------------\u001b[0m",
      "\u001b[1;31mNameError\u001b[0m                                 Traceback (most recent call last)",
      "\u001b[1;32m<ipython-input-4-e9829dade586>\u001b[0m in \u001b[0;36m<module>\u001b[1;34m\u001b[0m\n\u001b[1;32m----> 1\u001b[1;33m \u001b[0mXXX\u001b[0m\u001b[1;33m\u001b[0m\u001b[1;33m\u001b[0m\u001b[0m\n\u001b[0m",
      "\u001b[1;31mNameError\u001b[0m: name 'XXX' is not defined"
     ]
    }
   ],
   "source": [
    "XXX"
   ]
  },
  {
   "cell_type": "markdown",
   "metadata": {},
   "source": [
    "#### 3. Anwendung des Verfahrens auf das zuvor Trainierte $dropout$-Netzwerk\n",
    "##### a) & b) & c) & d)\n",
    "| Matrix | Zeilen | Spalten |  \n",
    "| - | - | - |  \n",
    "| $X$ | 1001 | 1 |  \n",
    "| $W_1$ | XXX | XXX |  \n",
    "| $B_1$ | XXX | XXX |  \n",
    "| $Y_1$ | XXX | XXX |  \n",
    "| - | - | - |  \n",
    "| $W_2$ | XXX | XXX |  \n",
    "| $B_2$ | XXX | XXX |  \n",
    "| $Y_2$ | XXX | XXX |  \n",
    "| - | - | - |  \n",
    "| $W_3$ | XXX | XXX |  \n",
    "| $B_3$ | XXX | XXX |  \n",
    "| $Y_3$ | XXX | XXX |  \n"
   ]
  },
  {
   "cell_type": "code",
   "execution_count": null,
   "metadata": {},
   "outputs": [],
   "source": [
    "XXX"
   ]
  },
  {
   "cell_type": "markdown",
   "metadata": {},
   "source": [
    "##### e) Interpretiere das Ergebnis. Von was hängt die Größe des Unsicherheitsbereiches im Wesentlichen ab?\n",
    "XXX\n",
    "##### f) Wie verändert sich die Unsicherheit in diesem Bereich und warum?\n",
    "XXX\n",
    "\n",
    "\n",
    "### Aufgabe 2: Tadiale Basisfunktionen\n",
    "\n",
    "#### 1. Berechne die fehlenden Einträge der Matrix H.\n",
    "$H = \\begin{pmatrix}\n",
    "0.001 & 1.001 & 4.001\n",
    "\\\\ \n",
    "1.001 & 0.001 & 1.001\n",
    "\\\\ \n",
    "4.001 & 1.001 & 0.001\n",
    "\\end{pmatrix}$  \n",
    "\n",
    "#### 2. Berechne das fehlende Gewicht $w_3$.\n",
    "$g(0) = \\sum_{v=1}^p w_v\\cdot h(||x_v-x||) = 1.752\\cdot 0.001 -8.004\\cdot 1.001 + w_3\\cdot 4.001 = -8.010252 + w_3\\cdot 4.001 = 1 \\Rightarrow w_3 = \\frac{9.010252}{4.001} = 2.252$\n",
    "\n",
    "#### 3. $g(x)$ zum Berechnen beliebiger Funktionswerte\n",
    "##### a) Berechne $g(3)$.\n",
    "$g(3) = \\sum_{v=1}^p w_v\\cdot h(||x_v-x||) = 1.752\\cdot 9.001 -8.004\\cdot 4.001 + 2.252\\cdot 1.001 = -14$\n",
    "##### b) Handelt es sich bei $g(3)$ um einen interpolierten Funktionswert?\n",
    "Ja, da $x=3$ nicht Teil des Trainingssets ist.\n",
    "\n",
    "#### 4. Ordne jeder Grafik einen $\\alpha$-Wert zu und begründe deine Entscheidung.\n",
    "B: $\\alpha = -1$,  \n",
    "da für $\\alpha = -1$ $g(3) = -8.504$ und nur A dieses Kriterium erfüllt.  \n",
    "A: $\\alpha = 0.15$ und  \n",
    "C: $\\alpha = -0.3$,  \n",
    "da $h(||x_v-x||)$ bei großen x für $\\alpha<0$ wächst und für $\\alpha>0$ fällt."
   ]
  },
  {
   "cell_type": "code",
   "execution_count": null,
   "metadata": {},
   "outputs": [],
   "source": []
  }
 ],
 "metadata": {
  "kernelspec": {
   "display_name": "Python 3",
   "language": "python",
   "name": "python3"
  },
  "language_info": {
   "codemirror_mode": {
    "name": "ipython",
    "version": 3
   },
   "file_extension": ".py",
   "mimetype": "text/x-python",
   "name": "python",
   "nbconvert_exporter": "python",
   "pygments_lexer": "ipython3",
   "version": "3.7.3"
  }
 },
 "nbformat": 4,
 "nbformat_minor": 2
}

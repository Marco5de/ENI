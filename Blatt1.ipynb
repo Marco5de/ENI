{
 "cells": [
  {
   "cell_type": "markdown",
   "metadata": {},
   "source": [
    "<h1><center>Einführung in die Neuroinformatik - Übungsblatt 1</center></h1>\n",
    "<h2><center>Dominik Authaler, Marco Deuscher und Carolin Schindler</center></h2>\n",
    "<h2><center>Gruppe Q</center></h2>\n",
    "<h2><center>Mai 2019</center></h2>\n",
    "\n",
    "### Aufgabe 1:\n",
    "1.)  \n",
    "Aus der gegebenen, allgemeinen Differenzialgleichung lassen sich mit den genannten Vereinfachungen folgende Beziehungen für die jeweiligen dendritischen Potenziale aufstellen:\n",
    "$$\n",
    "\\begin{align}\n",
    "    \\newline\n",
    "    \\tau \\dot{u}_1&=-u_1(t)+x_1(t) \\\\\n",
    "    \\Leftrightarrow \\dot{u}_1&=-\\frac{1}{\\tau}u_1(t)+ \\frac{1}{\\tau}x_1(t) \\\\\n",
    "    \\newline\n",
    "    \\tau\\dot{u}_2&=-u_2(t)+c_{12}y_1(t)=-u_2(t)+c_{12}y_1(t) \\\\\n",
    "    \\Leftrightarrow \\dot{u}_2&=-\\frac{1}{\\tau}u_2(t)+ \\frac{1}{\\tau}c_{12}y_1(t) \\\\\n",
    "    \\Leftrightarrow \\dot{u}_2&=-\\frac{1}{\\tau}u_2(t)+ \\frac{1}{\\tau}c_{12}u_1(t) \\\\\n",
    "\\end{align}\n",
    "$$\n",
    "\n",
    "2.)  \n",
    "Für das erste Neuron beträgt die maximal mögliche Ausgabe 1, da als Eingabe lediglich das Signal $x_{1}(t)$ vorhanden ist und dessen Maximum bei 1 liegt.\n",
    "Das zweite Neuron erhält als Eingabe lediglich das mit $c_{12}$ skalierte Potential von Neuron 1, daher liegt hier der maximal mögliche Wert bei $\\operatorname{max}(c_{12}*u_1(t))=\\operatorname{max}(c_{12}*1)=c_{12}$.\n",
    "\n",
    "3.)  \n",
    "Definition des Eingangssignals:"
   ]
  },
  {
   "cell_type": "code",
   "execution_count": 90,
   "metadata": {},
   "outputs": [],
   "source": [
    "def x1(t):\n",
    "    if t<5 or t>15:\n",
    "        return 0\n",
    "    else:\n",
    "        return 1"
   ]
  },
  {
   "cell_type": "markdown",
   "metadata": {},
   "source": [
    "Definition des linearisierten Models für die beiden Neuronen:"
   ]
  },
  {
   "cell_type": "code",
   "execution_count": 91,
   "metadata": {},
   "outputs": [],
   "source": [
    "import numpy as np\n",
    "\n",
    "def lin_model(tau,weight): \n",
    "    dt = 0.1\n",
    "    time=np.arange(0, 30.1, dt)\n",
    "    \n",
    "    #Anfangszustand setzen:\n",
    "    u1 = [0]\n",
    "    u2 = [0]\n",
    "    u1Dot = []\n",
    "    u2Dot = []\n",
    "    \n",
    "    for i in range(0, len(time)): \n",
    "        #print('Zeitschritt ' + str(time[i]) + '    [' + str(i) + ']')\n",
    "        \n",
    "        #Ableitungen berechnen\n",
    "        u1Dot.append((1/tau) * (x1(time[i]) - u1[i]))\n",
    "        u2Dot.append((1/tau) * (weight * u1[i] - u2[i]))\n",
    "        \n",
    "        #Neues Potenzial berechnen (falls nicht letzter Zeitschritt)\n",
    "        if i < len(time) - 1:\n",
    "            u1.append(u1[i] + dt * u1Dot[i])\n",
    "            u2.append(u2[i] + dt * u2Dot[i])\n",
    "    \n",
    "    return time, u1Dot, u2Dot, u1, u2\n",
    "        "
   ]
  },
  {
   "cell_type": "markdown",
   "metadata": {},
   "source": [
    "4.)   \n",
    "Zum Anzeigen der Ergebnisse des Models wird folgende Methode verwendet:"
   ]
  },
  {
   "cell_type": "code",
   "execution_count": 92,
   "metadata": {},
   "outputs": [],
   "source": [
    "import matplotlib as mpl\n",
    "import matplotlib.pyplot as plt\n",
    "\n",
    "mpl.rc('text', usetex = True)\n",
    "mpl.rc('font', family = 'serif')\n",
    "\n",
    "def plot_model(tau,weight):\n",
    "    time, u1Dot, u2Dot, u1, u2 = lin_model(tau, weight)\n",
    "    \n",
    "    plt.subplot(2, 2, 1)\n",
    "    plt.title(r'$u_1(t)$',fontsize = 23)\n",
    "    plt.xlabel('Zeit in Sekunden',fontsize = 16)\n",
    "    plt.ylabel('Dendritisches Potenzial', fontsize = 16)\n",
    "    plt.plot(time, u1)\n",
    "    \n",
    "    plt.subplot(2,2,2)\n",
    "    plt.title(r'$u_2(t)$',fontsize = 23)\n",
    "    plt.xlabel('Zeit in Sekunden',fontsize = 16)\n",
    "    plt.ylabel('Dendritisches Potenzial', fontsize = 16)\n",
    "    plt.plot(time ,u2)\n",
    "    \n",
    "    plt.subplot(2,2,3)\n",
    "    plt.title(r'$\\dot{u}_1(t)$',fontsize = 23)\n",
    "    plt.xlabel('Zeit in Sekunden',fontsize = 16)\n",
    "    plt.ylabel('Änderung des dendritisches Potenzials', fontsize = 16)\n",
    "    plt.plot(time ,u1Dot)\n",
    "    \n",
    "    plt.subplot(2,2,4)\n",
    "    plt.title(r'$\\dot{u}_2(t)$',fontsize = 23)\n",
    "    plt.xlabel('Zeit in Sekunden',fontsize = 16)\n",
    "    plt.ylabel('Änderung des dendritisches Potenzials', fontsize = 16)\n",
    "    plt.plot(time, u2Dot)\n",
    "    \n",
    "    plt.tight_layout()\n",
    "    \n",
    "    plt.show()"
   ]
  },
  {
   "cell_type": "markdown",
   "metadata": {},
   "source": [
    "Mithilfe von 'interact' lässt sich das ganze nun auch interaktiv darstellen:"
   ]
  },
  {
   "cell_type": "code",
   "execution_count": 93,
   "metadata": {},
   "outputs": [
    {
     "data": {
      "application/vnd.jupyter.widget-view+json": {
       "model_id": "a0964741f9b7465e9ea18c996fb5591b",
       "version_major": 2,
       "version_minor": 0
      },
      "text/plain": [
       "interactive(children=(FloatSlider(value=2.5000000000000004, description='tau', max=5.0, min=0.1), FloatSlider(…"
      ]
     },
     "metadata": {},
     "output_type": "display_data"
    }
   ],
   "source": [
    "from ipywidgets import interact\n",
    "interact(plot_model, tau=(0.1,5,0.1),weight=(-2,5,0.1));"
   ]
  },
  {
   "cell_type": "markdown",
   "metadata": {},
   "source": [
    "5.)  \n",
    "a) Da das Eingangssignal $x_1(t)$ für $t > 15$ den Wert Null annimmt, schwächt sich die Anregung der beiden Neuronen entsprechend der Modellierung mit der Zeit langsam ab. \n",
    "Dies ist sinnvoll, da ansonsten der Zustand der Neuronen nicht mehr resettet wird, sodass ein zweites Signal nicht mehr unabhängig vom ersten behandelt wird. Auch aus biologischer Sicht wird die Motivation für dieses Verhalten vor allem in der Wiederherstellung des Ausgangszustandes begründet sein.   \n",
    "  \n",
    "b) Die Zeitkonstante $\\tau$ gibt an, wie viel Einfluss die Änderung des dendritischen Potenzials auf das Potenzial selbst hat. Da diese Beziehung innerhalb des Models bereits einen negatives Vorzeichen besitzt, sieht man im dendritischen Potenzial für sehr kleine Werte von $\\tau$ das Eingangssignal $x_1(t)$ sehr deutlich. Für große Werte von $\\tau$ ($\\tau > 1$) \"verschmiert\" die Ableitung das Eingangssignal, dies zeigt sich sehr deutlich daran, dass aus den sehr steilen Flanken im Eingangssignal $x_1(t)$ eher abgerundete Flanken werden.  \n",
    "  \n",
    "c) Für den Fall $\\tau=0$ gilt\n",
    "$$\\begin{align*}\n",
    "    \\tau \\dot{u}_j(t)&=-u_j(t)+x_j(t)+\\sum_{i=1}^n c_{ij}y_i(t-d_{ij})\\\\\n",
    "    \\Rightarrow u_j(t)&=x_j(t)+\\sum_{i=1}^n c_{ij}y_i(t-d_{ij})\\\\\n",
    "\\end{align*}$$\n",
    "Es ergibt sich also eine instantane Änderung des Potenzials, wenn sich eine der Eingangsgrößen ändert.\n",
    "\n",
    "d) $c_{12}$ fungiert in obigem Modell vor allem als Gewichtungsfaktor, indem es angibt, wie stark das dendritische Potenzial des zweiten Neurons vom Potenzial des ersten Neurons abhängt. Insbesondere kann mit einem negativen Vorzeichen des Faktors noch angegeben werden, dass die Wirkung inhibitorisch ist. In unserem Beispiel mit lediglich zwei Neuronen gibt es allerdings noch kein zweites Eingangssignal, welches gehemmt werden könnte.   \n",
    "  \n",
    "e) Würde man in obigem Modell noch eine Übertragungszeit $d_{12} > 0$ ergänzen, so würde sich die Kurve des zweiten Neurons um diese Konstante nach rechts verschieben. Das Neuron würde also verzögert auf das vom ersten Neuron kommende Eingangssignal reagieren."
   ]
  },
  {
   "cell_type": "raw",
   "metadata": {},
   "source": []
  },
  {
   "cell_type": "code",
   "execution_count": null,
   "metadata": {},
   "outputs": [],
   "source": []
  }
 ],
 "metadata": {
  "kernelspec": {
   "display_name": "Python 3",
   "language": "python",
   "name": "python3"
  },
  "language_info": {
   "codemirror_mode": {
    "name": "ipython",
    "version": 3
   },
   "file_extension": ".py",
   "mimetype": "text/x-python",
   "name": "python",
   "nbconvert_exporter": "python",
   "pygments_lexer": "ipython3",
   "version": "3.7.3"
  }
 },
 "nbformat": 4,
 "nbformat_minor": 2
}

{
 "cells": [
  {
   "cell_type": "markdown",
   "metadata": {},
   "source": [
    "<h1><center>Einführung in die Neuroinformatik - Übungsblatt 6</center></h1>\n",
    "<h2><center>Dominik Authaler, Marco Deuscher und Carolin Schindler</center></h2>\n",
    "<h2><center>Gruppe Q</center></h2>\n",
    "<h2><center>Juni 2019</center></h2>\n",
    "\n",
    "## Aufgabe 1: "
   ]
  },
  {
   "cell_type": "code",
   "execution_count": 2,
   "metadata": {},
   "outputs": [
    {
     "data": {
      "text/plain": [
       "<matplotlib.legend.Legend at 0x1c5542030b8>"
      ]
     },
     "execution_count": 2,
     "metadata": {},
     "output_type": "execute_result"
    },
    {
     "data": {
      "image/png": "[encoded data removed]",
      "text/plain": [
       "<Figure size 432x288 with 1 Axes>"
      ]
     },
     "metadata": {
      "needs_background": "light"
     },
     "output_type": "display_data"
    }
   ],
   "source": [
    "import numpy as np\n",
    "import matplotlib.pyplot as plt\n",
    "import math\n",
    "\n",
    "def Kullback_Leibler_Divergenz(C,B):\n",
    "    #log(1/A) = -log(A)\n",
    "    return  np.dot(np.log2(B),B) - np.dot(np.log2(C),B)\n",
    "\n",
    "def c(t):\n",
    "    return np.array([t*0.75,(1-t)*0.75,0.125,0.125])\n",
    "\n",
    "tstart = 0.01\n",
    "dt = 0.01\n",
    "tende = 1\n",
    "\n",
    "bob = np.array([0.5,0.25,0.125,0.125])\n",
    "tValues = np.arange(tstart,tende,dt)\n",
    "\n",
    "KLdivergences = np.zeros(len(tValues))\n",
    "for i in range(len(tValues)):\n",
    "    KLdivergences[i] = Kullback_Leibler_Divergenz(c(tValues[i]),bob)\n",
    "\n",
    "#Get min and minindex\n",
    "min_index = np.argmin(KLdivergences)\n",
    "minimum = np.min(KLdivergences)\n",
    "    \n",
    "plt.plot(tValues,KLdivergences,label=\"KL-Divergence\")\n",
    "pl = plt.title(\"Changing the code of Charles to fit to Bob's distribution\")\n",
    "plt.xlabel(\"t\");plt.ylabel(r'$D_C(B)$')\n",
    "\n",
    "\n",
    "plt.plot(tValues[min_index], minimum, marker='o', markersize=3, color=\"red\",label=\"Minimum\", linestyle = 'None')\n",
    "\n",
    "plt.legend()\n"
   ]
  },
  {
   "cell_type": "markdown",
   "metadata": {},
   "source": [
    "## Aufgabe 2: Cross Entropy als Kostenfunktion\n",
    "1.)  \n",
    "Die Softmax Funktion ist definiert als: $y_i = \\frac{e^{c \\cdot u_i}}{\\sum_{j = 1}^{n}e^{c \\cdot u_i}}$, für $c \\in \\mathbb{R}$ und $u_i = w_i \\cdot x + b_i$.  \n",
    "a) Zu zeigen ist nun, dass diese Funktion eine gültige, diskrete Wahrscheinlichkeitsverteilung darstellt, d.h. das $\\forall i: (y_i \\geq 0)$ und $\\sum_{i=1}^{n}y_i = 1$.\n",
    "Da für die Exponentialfunktion $\\forall x: e^x > 0$ gilt, ist ersteres sehr schnell gezeigt. Der Zähler ist lediglich eine Exponentialfunktion und daher immer positiv, für den Nenner gilt das Argument als Summe von Exponentialfunktionen analog. \n",
    "Auch die zweite Bedingung kann relativ schnell gezeigt werden. Die entscheidenen Umformung ist dabei erlaubt, da der Nenner des Bruchs für alle Terme der äußeren Summe identisch ist:\n",
    "$\\sum_{i=1}^{n}y_i = \\sum_{i=1}^{n}\\frac{e^{c \\cdot u_i}}{\\sum_{j=1}^{n}e^{c \\cdot u_j}}$\n",
    "  \n",
    "b) Zu zeigen: $y_1 = \\frac{1}{1 + e^{c \\cdot (u_2 - u_2)} + e^{c \\cdot (u_3-u_1)}}$\n",
    "$$\n",
    "\\begin{align*}\n",
    "    y_1 = \\frac{e^{c \\cdot u_1}}{\\sum_{j=1}^{3}e^{c \\cdot u_j}} = \\frac{e^{c \\cdot u_1}}{e^{c \\cdot u_1} + e^{c \\cdot u_2} + e^{c \\cdot u_3}} = \\frac{1}{1 + \\frac{e^{c \\cdot u_2}}{e^{c \\cdot u_1}} + \\frac{e^{c \\cdot u_3}}{e^{c \\cdot u_1}}} = \\frac{1}{1 + e^{c \\cdot (u_2 - u_1)} + e^{c \\cdot (u_3-u_1)}}\n",
    "\\end{align*}\n",
    "$$\n",
    "  \n",
    "c) Im Folgenden soll nun eine Grenzwertbetrachtung für verschiedene Beziehungen zwischen $u_1, u_2$ und $u_3$ durchgeführt werden:  \n",
    "    i) $u_1 > u_2 > u_3$: $\\lim\\limits_{c \\to \\infty}y_1=\\lim\\limits_{c \\to \\infty}\\frac{1}{1 + e^{c \\cdot (u_2 - u_1)} + e^{c \\cdot (u_3-u_1)}} = 1$  \n",
    "    ii) $u_2 > u_1 > u_3$: $\\lim\\limits_{c \\to \\infty}y_1=\\lim\\limits_{c \\to \\infty}\\frac{1}{1 + e^{c \\cdot (u_2 - u_1)} + e^{c \\cdot (u_3-u_1)}} = 0$  \n",
    "    iii) $u_2 > u_3 > u_1$: $\\lim\\limits_{c \\to \\infty}y_1=\\lim\\limits_{c \\to \\infty}\\frac{1}{1 + e^{c \\cdot (u_2 - u_1)} + e^{c \\cdot (u_3-u_1)}} = 0$  \n",
    "    \n",
    "d) In diesem Aufgabenteil sollte nun die verlinkte Animation für unterschiedliche Wertebereiche von c beschrieben werden:  \n",
    "i)   $c > 0$: es zeigen sich starke Peaks für große Werte von $u_i$, je größer c wird, desto mehr verschiebt es sich zu einem Peak beim größten Wert von $u_i$  \n",
    "ii)  $c = 0$: hier haben alle Peaks die gleiche Höhe $\\frac{1}{\\text{Anzahl der Peaks}}$  \n",
    "iii) $c < 0$: es zeigen sich starke Peaks für kleine Werte von $u_i$, je kleiner c wird, desto mehr verschiebt es sich zu einem Peak beim kleinsten Wert von $u_i$  \n",
    "  \n",
    "2.)  \n",
    "In dieser Aufgabe soll nun die neue Fehlerfunktion $E = D_y(t) = H_y(t) = -t_1 \\cdot \\ln{(y_1[u_1(w_1), u_2(w_2)]) - t_2 \\cdot \\ln{(y_2[u_1(w_1), u_2(w_2)])}}$ abgeleitet werden, wobei auf folgende Kettenregel zu achten ist: $\\frac{\\partial E}{\\partial w_2} = \\frac{\\partial E}{\\partial y_1}\\frac{\\partial y_1}{\\partial u_2}\\frac{\\partial u_2}{\\partial w_2} + \\frac{\\partial E}{\\partial y_2}\\frac{\\partial y_2}{\\partial u_2}\\frac{\\partial u_2}{\\partial w_2}$. Der Einfachheit halber soll mit $c = 1$ gerechnet werden.\n",
    "  \n",
    "a) \n",
    "$$\n",
    "\\begin{align*}\n",
    "\\frac{\\partial E}{\\partial y_1} = -t_1 \\cdot \\frac{1}{y_1[u_1(w_1), u_2(w_2)]} \\\\\n",
    "\\frac{\\partial E}{\\partial y_2} = -t_2 \\cdot \\frac{1}{y_2[u_1(w_1), u_2(w_2)]}\n",
    "\\end{align*} \n",
    "$$  \n",
    "\n",
    "b) \n",
    "$$\n",
    "\\begin{align*}\n",
    "\\frac{\\partial y_1}{\\partial u_2} = \\frac{\\partial}{\\partial u_2} \\left ( \\frac{e^{u_1}}{e^{u_1} + e^{u_2}}\\right) = e^{u_1} \\cdot \\frac{\\partial}{\\partial u_2}(e^{u_1} + e^{u_2})^{-1} = -e^{u_1} \\cdot \\frac{1}{(e^{u_1} + e^{u_2})^2} \\cdot e^{u_2} = - \\frac{e^{u_1}}{e^{u_1} + e^{u_2}} \\cdot \\frac{e^{u_2}}{e^{u_1} + e^{u_2}} = -y_1 \\cdot y_2\\\\\n",
    "\\frac{\\partial y_2}{\\partial u_2} = \\frac{\\partial}{\\partial u_2}\\left (\\frac{e^{u_2}}{e^{u_1} + e^{u_2}}\\right) = \\frac{e^{u_2} \\cdot (e^{u_1} + e^{u_2}) - e^{u_2} \\cdot e^{u_2}}{(e^{u_1} + e^{u_2})^2} =  \\frac{e^{u_2}}{e^{u_1} + e^{u_2}} \\cdot \\left ( \\frac{e^{u_1} + e^{u_2}}{e^{u_1} + e^{u_2}} + \\frac{e^{u_2}}{e^{u_1} + e^{u_2}}\\right ) = y_2 \\cdot (1 - y_2) \n",
    "\\end{align*} \n",
    "$$\n",
    "  \n",
    "c) \n",
    "$$\n",
    "\\begin{align*}\n",
    "\\frac{\\partial u_2}{\\partial w_2} = \\frac{\\partial }{\\partial w_2}\\left( w_2 \\cdot x + b_2\\right ) = x\n",
    "\\end{align*} \n",
    "$$\n",
    "\n",
    "d) Zu beachten: $t_1 + t_2 = 1$\n",
    "$$\n",
    "\\begin{align*}\n",
    "\\frac{\\partial E}{\\partial w_2} = \\frac{\\partial E}{\\partial y_1}\\frac{\\partial y_1}{\\partial u_2}\\frac{\\partial u_2}{\\partial w_2} + \\frac{\\partial E}{\\partial y_2}\\frac{\\partial y_2}{\\partial u_2}\\frac{\\partial u_2}{\\partial w_2} = -t_1 \\cdot \\frac{1}{y_1} \\cdot {y_1 \\cdot y_2} \\cdot x + (-t_2) \\cdot \\frac{1}{y_2} \\cdot y_2 \\cdot (1-y_2) \\cdot x = (t_1y_2 - t_2 \\cdot (1 - y_2))x = (t_1y_2 + t_2y_2 -t_2)x = ((t_1 + t_2)y_2-t_2)x = (y_2 - t_2)x \n",
    "\\end{align*}\n",
    "$$\n",
    "e) Partielle Ableitung nach w der quadratischen Fehlerfunktion:\n",
    "$$\n",
    "\\frac{\\partial E_{quad}}{\\partial w} = - \\sum_{\\mu=1}^{M}(T_{\\mu} - f(w \\cdot x_{\\mu}+b)) \\cdot f'(w \\cdot x_{\\mu}+b) \\cdot x_{\\mu}\n",
    "$$\n",
    "Vergleicht man die beiden erhaltenen Ableitungen, so fällt auf, dass die Summe über die Datenpunkte bei der Cross Entropy Fehlerfunktion fehlt. Abgesehen davon fehlt außerdem die Ableitung der Transferfunktion. Weiterhin vorhanden ist der Vergleich mit dem Lehrersignal (in etwas abgeänderter Form) und der Faktor x."
   ]
  }
 ],
 "metadata": {
  "kernelspec": {
   "display_name": "Python 3",
   "language": "python",
   "name": "python3"
  },
  "language_info": {
   "codemirror_mode": {
    "name": "ipython",
    "version": 3
   },
   "file_extension": ".py",
   "mimetype": "text/x-python",
   "name": "python",
   "nbconvert_exporter": "python",
   "pygments_lexer": "ipython3",
   "version": "3.6.7"
  }
 },
 "nbformat": 4,
 "nbformat_minor": 2
}

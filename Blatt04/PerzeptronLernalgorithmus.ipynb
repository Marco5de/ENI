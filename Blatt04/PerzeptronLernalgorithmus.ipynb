{
 "cells": [
  {
   "cell_type": "markdown",
   "metadata": {},
   "source": [
    "<h1><center>Einführung in die Neuroinformatik - Übungsblatt 4</center></h1>\n",
    "<h2><center>Dominik Authaler, Marco Deuscher und Carolin Schindler</center></h2>\n",
    "<h2><center>Gruppe Q</center></h2>\n",
    "<h2><center>Mai 2019</center></h2>\n",
    "\n",
    "### Aufgabe 1:"
   ]
  },
  {
   "cell_type": "markdown",
   "metadata": {},
   "source": [
    "Von der Aufgabenstellung gegeben:\n",
    "$w = \\left(\\begin{array}{c}1\\\\2\\\\\\end{array}\\right)$,    $w_0 = -1$,   $p = \\left(\\begin{array}{c}2\\\\2\\\\\\end{array}\\right) \\in w_{-1}$  \n",
    "  \n",
    "1.) Bestimmung der aktuellen Lage der Trennunslinie:  \n",
    "$$\n",
    "\\begin{align}\n",
    "    w^Tx+w_0 = 0\n",
    "    \\Leftrightarrow \\text{(1  2)}\\left(\\begin{array}{c}2\\\\2\\\\\\end{array}\\right) - 1 = 0\n",
    "    \\Leftrightarrow x_1 + 2x_2 - 1 = 0\n",
    "    \\Leftrightarrow x_2 = -\\frac{1}{2}x_1 + \\frac{1}{2}\n",
    "\\end{align}\n",
    "$$\n",
    "![title](b04_1.png)\n",
    "\n",
    "2.)Erweiterung der Vektoren  \n",
    "Damit die Erweiterung nichts ändert muss folgende Gleichung Äquivalenz gegebene sein:\n",
    "$$\n",
    "\\begin{align}\n",
    "    w^Tx+w_0 = 0\n",
    "    \\Leftrightarrow {w^*}^Tx^* = 0\n",
    "\\end{align}\n",
    "$$\n",
    "  \n",
    "Wählt man $w^* = \\left(\\begin{array}{c}w_0\\\\w_1\\\\w_2\\\\\\end{array}\\right) = \\left(\\begin{array}{c}-1\\\\1\\\\2\\\\\\end{array}\\right)$, so ergibt sich für den erweiterten Datenpunkt\n",
    "$p^* = \\left(\\begin{array}{c}1\\\\2\\\\2\\\\\\end{array}\\right)$.\n",
    "  \n",
    "3.) siehe Grafik bei 1.)\n",
    "  \n",
    "4.) Ausführen eines Lernschrittes:\n",
    "Test, ob $p^*$ korrekt klassifiziert ist: ${w^*}^Tp^* = \\text{(-1 1 2)}\\left(\\begin{array}{c}1\\\\2\\\\2\\\\\\end{array}\\right) = 5 > 0$. Da $p^*$ laut Vorgabe aber Teil von $w_{-1}$ ist, ist also eine Anpassung der Gewichte nötig:\n",
    "  \n",
    "$w^*(t+1) = w^*(t) - p^* = \\left(\\begin{array}{c}-1\\\\1\\\\2\\\\\\end{array}\\right) - \\left(\\begin{array}{c}1\\\\2\\\\2\\\\\\end{array}\\right) = \\left(\\begin{array}{c}-2\\\\-1\\\\0\\\\\\end{array}\\right)$\n",
    "bzw. ausgedrückt ohne die erweiterten Vektoren:\n",
    "$\\tilde{w} = \\left(\\begin{array}{c}-1\\\\0\\\\\\end{array}\\right)$ und $\\tilde{w_0} = -2$\n",
    "![title](b04_2.png)"
   ]
  },
  {
   "cell_type": "markdown",
   "metadata": {},
   "source": [
    "### Aufgabe 2:"
   ]
  },
  {
   "cell_type": "code",
   "execution_count": 1,
   "metadata": {},
   "outputs": [],
   "source": [
    "import numpy as np\n",
    "import matplotlib.pyplot as plt\n",
    "import ipywidgets as widgets\n",
    "from ipywidgets import interact\n",
    "from IPython.display import display"
   ]
  },
  {
   "cell_type": "code",
   "execution_count": 2,
   "metadata": {},
   "outputs": [
    {
     "data": {
      "text/plain": [
       "(10, 3)"
      ]
     },
     "execution_count": 2,
     "metadata": {},
     "output_type": "execute_result"
    }
   ],
   "source": [
    "data = np.array([[-3, 1, -1], \n",
    "                 [-3, 3, 1], \n",
    "                 [-2, 1, -1], \n",
    "                 [-2, 4, 1], \n",
    "                 [-1, 3, 1], \n",
    "                 [-1, 4, 1], \n",
    "                 [2, 2, -1], \n",
    "                 [2, 4, 1], \n",
    "                 [3, 2, -1], \n",
    "                 [4, 1, -1]])\n",
    "data.shape"
   ]
  },
  {
   "cell_type": "markdown",
   "metadata": {},
   "source": [
    "## Teil 1: Implementierung"
   ]
  },
  {
   "cell_type": "code",
   "execution_count": 3,
   "metadata": {},
   "outputs": [],
   "source": [
    "weight_vector = np.zeros(3, dtype=np.float32)\n",
    "weight_vectors = []\n",
    "eta = 1\n",
    "change = True\n",
    "\n",
    "count = 0\n",
    "\n",
    "while change and count < 100:\n",
    "    change = False\n",
    "    for dataPoint in data:\n",
    "        #increase count to prevent endless loops\n",
    "        count += 1\n",
    "        \n",
    "        target = dataPoint[2]\n",
    "        \n",
    "        #create new data vector with third coordinate\n",
    "        newData = [1, dataPoint[0], dataPoint[1]]\n",
    "        \n",
    "        #calculate dot product\n",
    "        res = np.dot(newData, weight_vector)\n",
    "        \n",
    "        if target > 0 and res < 0:\n",
    "            weight_vector = weight_vector + eta * newData\n",
    "            change = True\n",
    "        elif target < 0 and res >= 0:\n",
    "            weight_vector = weight_vector - eta * newData\n",
    "            change = True\n",
    "        \n",
    "        weight_vectors.append(weight_vector)\n",
    "        \n",
    "        #print('dataPoint: ' + str(dataPoint) + '\\tTarget: ' + str(target))\n",
    "        #print('newData: ' + str(newData))\n",
    "        #print('newWeight: ' + str(weight_vector) + '\\n')\n",
    "\n",
    "#print('Iterationen: ' + str(len(weight_vectors)))\n",
    "    \n"
   ]
  },
  {
   "cell_type": "markdown",
   "metadata": {},
   "source": [
    "## Teil 2: Darstellung"
   ]
  },
  {
   "cell_type": "code",
   "execution_count": 21,
   "metadata": {},
   "outputs": [
    {
     "data": {
      "application/vnd.jupyter.widget-view+json": {
       "model_id": "82c74b68b9084d279168c4b142c6077a",
       "version_major": 2,
       "version_minor": 0
      },
      "text/plain": [
       "interactive(children=(IntSlider(value=0, description='Step: ', max=49), Output()), _dom_classes=('widget-inter…"
      ]
     },
     "metadata": {},
     "output_type": "display_data"
    }
   ],
   "source": [
    "#TODO: Flächen in Legende markieren\n",
    "\n",
    "import matplotlib as mpl\n",
    "import matplotlib.pyplot as plt\n",
    "from collections import OrderedDict\n",
    "from ipywidgets import *\n",
    "\n",
    "def plotStep(step):\n",
    "    #calculate data element used for this step\n",
    "    cData = step % len(data)\n",
    "    cPoint = data[cData]\n",
    "    cWeight = weight_vectors[step]\n",
    "    \n",
    "    plt.figure(figsize=(7 ,7))\n",
    "    plt.title('step = ' + str(step) + r', $w_0 = $' + str(cWeight[0]) + r', $w = ($' + str(cWeight[1]) + r', ' + str(cWeight[2]) + r')')\n",
    "    plt.xlim(right=5,left=-5)\n",
    "    plt.ylim(top=5,bottom=-5)\n",
    "    plt.xlabel(\"$x_1$\")\n",
    "    plt.ylabel(\"$x_2$\")\n",
    "    plt.grid(color='lightgrey', linestyle='-', linewidth=1)\n",
    "    plt.gca().set_axisbelow(True)\n",
    "    plt.gca().xaxis.set_ticks(np.arange(-5, 6, 1))\n",
    "    plt.gca().yaxis.set_ticks(np.arange(-5, 6, 1))\n",
    "\n",
    "    x1 = np.arange(-5,5,0.01)\n",
    "    \n",
    "    for d in data:\n",
    "        if d[2] == 1:\n",
    "            color = 'green'\n",
    "            label = r'$\\omega_1$'\n",
    "        else: \n",
    "            color = 'blue'\n",
    "            label = r'$\\omega_{-1}$'\n",
    "            \n",
    "        if (d == cPoint).all():\n",
    "            plt.plot(cPoint[0],cPoint[1], marker=\"D\",color=color,markersize=10, label='Processed point')\n",
    "        else:\n",
    "            plt.scatter(d[0], d[1], alpha=0.8, c=color, edgecolors='none', s=50, label=label)\n",
    "    \n",
    "    #draw the seperation line\n",
    "    if(cWeight[2]!=0):\n",
    "        x2 = -(cWeight[1] * x1 + cWeight[0]) / cWeight[2]\n",
    "        plt.plot(x1,x2,label='Separation line')\n",
    "        \n",
    "        #TODO add handels to legend\n",
    "        h1 = plt.fill_between(x1, x2, -5, color='blue', alpha='0.2')\n",
    "        h2 = plt.fill_between(x1, x2, 5, color='green', alpha='0.2')\n",
    "    else:\n",
    "        #draw vertical line\n",
    "        plt.axvline(x=0,label=\"Separation line\")\n",
    "        plt.axvspan(-5,0,-5,5,facecolor='blue', alpha=0.2)\n",
    "        plt.axvspan(0,5,-5,5,facecolor='green', alpha=0.2)\n",
    "    \n",
    "    #draw current weight vector\n",
    "    plt.quiver(0, 0, cWeight[1], cWeight[2], scale=25,label='Weight vector')\n",
    "    \n",
    "    \n",
    "    #Delete multiple labels for w1 and w-1\n",
    "    handles, labels = plt.gca().get_legend_handles_labels()\n",
    "    \n",
    "    #Trying to append labels for fills, but only getting a bunch of errors\n",
    "    \n",
    "    #handles.append(h1)\n",
    "    #labels.append(r'$w^Tx \\geq 0$')\n",
    "    #labels.append(\"Test\")\n",
    "    #handles.append(h2)\n",
    "    #labels.append(r'$w^Tx \\le 0$')\n",
    "    #labels.append('Test1')\n",
    "    \n",
    "    by_label = OrderedDict(zip(labels, handles))\n",
    "    plt.legend(by_label.values(), by_label.keys(), loc=3)\n",
    "    \n",
    "    plt.show()\n",
    "    return\n",
    "\n",
    "interact(plotStep, step=widgets.IntSlider(min=0,max=49,step=1,value=0, description='Step: '));"
   ]
  }
 ],
 "metadata": {
  "kernelspec": {
   "display_name": "Python 3",
   "language": "python",
   "name": "python3"
  },
  "language_info": {
   "codemirror_mode": {
    "name": "ipython",
    "version": 3
   },
   "file_extension": ".py",
   "mimetype": "text/x-python",
   "name": "python",
   "nbconvert_exporter": "python",
   "pygments_lexer": "ipython3",
   "version": "3.7.3"
  }
 },
 "nbformat": 4,
 "nbformat_minor": 2
}
